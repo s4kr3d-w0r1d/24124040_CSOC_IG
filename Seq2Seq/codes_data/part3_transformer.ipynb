{
 "cells": [
  {
   "cell_type": "markdown",
   "metadata": {},
   "source": [
    "## Part 3: Transformer"
   ]
  },
  {
   "cell_type": "markdown",
   "metadata": {},
   "source": [
    "1. Importing necessary libraries"
   ]
  },
  {
   "cell_type": "code",
   "execution_count": 3,
   "metadata": {
    "execution": {
     "iopub.execute_input": "2025-06-20T10:41:17.148563Z",
     "iopub.status.busy": "2025-06-20T10:41:17.148255Z",
     "iopub.status.idle": "2025-06-20T10:41:34.943646Z",
     "shell.execute_reply": "2025-06-20T10:41:34.943102Z",
     "shell.execute_reply.started": "2025-06-20T10:41:17.148543Z"
    },
    "trusted": true
   },
   "outputs": [],
   "source": [
    "import os\n",
    "import random\n",
    "import numpy as np\n",
    "from datasets import Dataset\n",
    "from transformers import (\n",
    "    AutoTokenizer,\n",
    "    AutoModelForSeq2SeqLM,\n",
    "    DataCollatorForSeq2Seq,\n",
    "    Seq2SeqTrainer,\n",
    "    Seq2SeqTrainingArguments\n",
    ")\n",
    "import evaluate\n",
    "os.environ[\"WANDB_DISABLED\"] = \"true\""
   ]
  },
  {
   "cell_type": "markdown",
   "metadata": {},
   "source": [
    "2. Loading and defining Dataset"
   ]
  },
  {
   "cell_type": "code",
   "execution_count": 6,
   "metadata": {
    "execution": {
     "iopub.execute_input": "2025-06-20T10:44:28.254072Z",
     "iopub.status.busy": "2025-06-20T10:44:28.253753Z",
     "iopub.status.idle": "2025-06-20T10:44:29.370128Z",
     "shell.execute_reply": "2025-06-20T10:44:29.369524Z",
     "shell.execute_reply.started": "2025-06-20T10:44:28.254052Z"
    },
    "trusted": true
   },
   "outputs": [],
   "source": [
    "with open(\"/kaggle/input/seq2seq1/fra.txt\", encoding=\"utf-8\") as f:\n",
    "    lines = f.read().strip().split(\"\\n\")\n",
    "pairs = [line.split('\\t')[:2] for line in lines if '\\t' in line and len(line.split('\\t')) >= 2]\n",
    "random.seed(42)\n",
    "random.shuffle(pairs)\n",
    "pairs = pairs[:200000]"
   ]
  },
  {
   "cell_type": "code",
   "execution_count": 9,
   "metadata": {
    "execution": {
     "iopub.execute_input": "2025-06-20T10:44:39.553836Z",
     "iopub.status.busy": "2025-06-20T10:44:39.553556Z",
     "iopub.status.idle": "2025-06-20T10:44:39.725082Z",
     "shell.execute_reply": "2025-06-20T10:44:39.724554Z",
     "shell.execute_reply.started": "2025-06-20T10:44:39.553816Z"
    },
    "trusted": true
   },
   "outputs": [],
   "source": [
    "dataset_dict = {\n",
    "    \"translation\": [{\"en\": en.strip(), \"fr\": fr.strip()} for en, fr in pairs]\n",
    "}"
   ]
  },
  {
   "cell_type": "code",
   "execution_count": 10,
   "metadata": {
    "execution": {
     "iopub.execute_input": "2025-06-20T10:45:14.740210Z",
     "iopub.status.busy": "2025-06-20T10:45:14.739551Z",
     "iopub.status.idle": "2025-06-20T10:45:15.157914Z",
     "shell.execute_reply": "2025-06-20T10:45:15.157333Z",
     "shell.execute_reply.started": "2025-06-20T10:45:14.740187Z"
    },
    "trusted": true
   },
   "outputs": [],
   "source": [
    "raw_dataset = Dataset.from_list(dataset_dict[\"translation\"])\n",
    "raw_dataset = raw_dataset.train_test_split(test_size=0.1, seed=42)"
   ]
  },
  {
   "cell_type": "markdown",
   "metadata": {},
   "source": [
    "3. Model Selection"
   ]
  },
  {
   "cell_type": "code",
   "execution_count": null,
   "metadata": {
    "execution": {
     "iopub.execute_input": "2025-06-20T10:45:26.164361Z",
     "iopub.status.busy": "2025-06-20T10:45:26.163703Z",
     "iopub.status.idle": "2025-06-20T10:45:30.156658Z",
     "shell.execute_reply": "2025-06-20T10:45:30.155829Z",
     "shell.execute_reply.started": "2025-06-20T10:45:26.164331Z"
    },
    "trusted": true
   },
   "outputs": [],
   "source": [
    "model_checkpoint = \"Helsinki-NLP/opus-mt-en-fr\"\n",
    "tokenizer = AutoTokenizer.from_pretrained(model_checkpoint)\n",
    "model = AutoModelForSeq2SeqLM.from_pretrained(model_checkpoint)"
   ]
  },
  {
   "cell_type": "markdown",
   "metadata": {},
   "source": [
    "4. Tokenization"
   ]
  },
  {
   "cell_type": "code",
   "execution_count": 14,
   "metadata": {
    "execution": {
     "iopub.execute_input": "2025-06-20T10:47:09.052494Z",
     "iopub.status.busy": "2025-06-20T10:47:09.052181Z",
     "iopub.status.idle": "2025-06-20T10:47:09.057224Z",
     "shell.execute_reply": "2025-06-20T10:47:09.056432Z",
     "shell.execute_reply.started": "2025-06-20T10:47:09.052471Z"
    },
    "trusted": true
   },
   "outputs": [],
   "source": [
    "max_input_length = 128\n",
    "max_target_length = 128\n",
    "\n",
    "def preprocess_function(examples):\n",
    "    inputs = tokenizer(examples[\"en\"], max_length=max_input_length, padding=\"max_length\", truncation=True)\n",
    "    with tokenizer.as_target_tokenizer():\n",
    "        labels = tokenizer(examples[\"fr\"], max_length=max_target_length, padding=\"max_length\", truncation=True)\n",
    "    inputs[\"labels\"] = labels[\"input_ids\"]\n",
    "    return inputs"
   ]
  },
  {
   "cell_type": "code",
   "execution_count": null,
   "metadata": {
    "execution": {
     "iopub.execute_input": "2025-06-20T10:47:15.437019Z",
     "iopub.status.busy": "2025-06-20T10:47:15.436291Z",
     "iopub.status.idle": "2025-06-20T10:47:59.673864Z",
     "shell.execute_reply": "2025-06-20T10:47:59.673294Z",
     "shell.execute_reply.started": "2025-06-20T10:47:15.436984Z"
    },
    "trusted": true
   },
   "outputs": [],
   "source": [
    "tokenized_datasets = raw_dataset.map(preprocess_function, batched=True)"
   ]
  },
  {
   "cell_type": "markdown",
   "metadata": {},
   "source": [
    "5. Evaluation Metrics Function definition"
   ]
  },
  {
   "cell_type": "code",
   "execution_count": null,
   "metadata": {
    "execution": {
     "iopub.execute_input": "2025-06-20T10:49:18.520776Z",
     "iopub.status.busy": "2025-06-20T10:49:18.520053Z",
     "iopub.status.idle": "2025-06-20T10:49:19.100803Z",
     "shell.execute_reply": "2025-06-20T10:49:19.100084Z",
     "shell.execute_reply.started": "2025-06-20T10:49:18.520751Z"
    },
    "trusted": true
   },
   "outputs": [],
   "source": [
    "data_collator = DataCollatorForSeq2Seq(tokenizer, model=model)\n",
    "bleu = evaluate.load(\"sacrebleu\")"
   ]
  },
  {
   "cell_type": "code",
   "execution_count": 17,
   "metadata": {
    "execution": {
     "iopub.execute_input": "2025-06-20T10:49:56.055909Z",
     "iopub.status.busy": "2025-06-20T10:49:56.055194Z",
     "iopub.status.idle": "2025-06-20T10:49:56.060524Z",
     "shell.execute_reply": "2025-06-20T10:49:56.059900Z",
     "shell.execute_reply.started": "2025-06-20T10:49:56.055887Z"
    },
    "trusted": true
   },
   "outputs": [],
   "source": [
    "def compute_metrics(eval_preds):\n",
    "    preds, labels = eval_preds\n",
    "    decoded_preds = tokenizer.batch_decode(preds, skip_special_tokens=True)\n",
    "    labels = np.where(labels != -100, labels, tokenizer.pad_token_id)\n",
    "    decoded_labels = tokenizer.batch_decode(labels, skip_special_tokens=True)\n",
    "    decoded_labels = [[label] for label in decoded_labels]\n",
    "    return {\"bleu\": bleu.compute(predictions=decoded_preds, references=decoded_labels)[\"score\"]}"
   ]
  },
  {
   "cell_type": "markdown",
   "metadata": {},
   "source": [
    "6. Training Model"
   ]
  },
  {
   "cell_type": "code",
   "execution_count": 26,
   "metadata": {
    "execution": {
     "iopub.execute_input": "2025-06-20T12:07:57.370453Z",
     "iopub.status.busy": "2025-06-20T12:07:57.369753Z",
     "iopub.status.idle": "2025-06-20T12:07:57.411530Z",
     "shell.execute_reply": "2025-06-20T12:07:57.410793Z",
     "shell.execute_reply.started": "2025-06-20T12:07:57.370422Z"
    },
    "trusted": true
   },
   "outputs": [
    {
     "name": "stderr",
     "output_type": "stream",
     "text": [
      "/tmp/ipykernel_35/3271630705.py:15: FutureWarning: `tokenizer` is deprecated and will be removed in version 5.0.0 for `Seq2SeqTrainer.__init__`. Use `processing_class` instead.\n",
      "  trainer = Seq2SeqTrainer(\n"
     ]
    }
   ],
   "source": [
    "training_args = Seq2SeqTrainingArguments(\n",
    "    output_dir=\"./transformer-nmt\",\n",
    "    save_strategy=\"epoch\",\n",
    "    learning_rate=5e-5,\n",
    "    per_device_train_batch_size=16,\n",
    "    per_device_eval_batch_size=16,\n",
    "    num_train_epochs=3,\n",
    "    weight_decay=0.01,\n",
    "    predict_with_generate=True,\n",
    "    logging_strategy=\"epoch\",\n",
    "    fp16=True,\n",
    "    report_to=\"none\"\n",
    ")\n",
    "\n",
    "trainer = Seq2SeqTrainer(\n",
    "    model=model,\n",
    "    args=training_args,\n",
    "    train_dataset=tokenized_datasets[\"train\"],\n",
    "    eval_dataset=tokenized_datasets[\"test\"],\n",
    "    tokenizer=tokenizer,\n",
    "    data_collator=data_collator,\n",
    "    compute_metrics=compute_metrics\n",
    ")"
   ]
  },
  {
   "cell_type": "code",
   "execution_count": 27,
   "metadata": {
    "execution": {
     "iopub.execute_input": "2025-06-20T12:08:02.295249Z",
     "iopub.status.busy": "2025-06-20T12:08:02.294511Z",
     "iopub.status.idle": "2025-06-20T14:21:03.932633Z",
     "shell.execute_reply": "2025-06-20T14:21:03.931887Z",
     "shell.execute_reply.started": "2025-06-20T12:08:02.295224Z"
    },
    "trusted": true
   },
   "outputs": [
    {
     "name": "stderr",
     "output_type": "stream",
     "text": [
      "/usr/local/lib/python3.11/dist-packages/torch/nn/parallel/_functions.py:70: UserWarning: Was asked to gather along dimension 0, but all input tensors were scalars; will instead unsqueeze and return a vector.\n",
      "  warnings.warn(\n"
     ]
    },
    {
     "data": {
      "text/html": [
       "\n",
       "    <div>\n",
       "      \n",
       "      <progress value='16875' max='16875' style='width:300px; height:20px; vertical-align: middle;'></progress>\n",
       "      [16875/16875 2:13:00, Epoch 3/3]\n",
       "    </div>\n",
       "    <table border=\"1\" class=\"dataframe\">\n",
       "  <thead>\n",
       " <tr style=\"text-align: left;\">\n",
       "      <th>Step</th>\n",
       "      <th>Training Loss</th>\n",
       "    </tr>\n",
       "  </thead>\n",
       "  <tbody>\n",
       "    <tr>\n",
       "      <td>5625</td>\n",
       "      <td>0.027400</td>\n",
       "    </tr>\n",
       "    <tr>\n",
       "      <td>11250</td>\n",
       "      <td>0.027600</td>\n",
       "    </tr>\n",
       "    <tr>\n",
       "      <td>16875</td>\n",
       "      <td>0.022200</td>\n",
       "    </tr>\n",
       "  </tbody>\n",
       "</table><p>"
      ],
      "text/plain": [
       "<IPython.core.display.HTML object>"
      ]
     },
     "metadata": {},
     "output_type": "display_data"
    },
    {
     "name": "stderr",
     "output_type": "stream",
     "text": [
      "/usr/local/lib/python3.11/dist-packages/torch/nn/parallel/_functions.py:70: UserWarning: Was asked to gather along dimension 0, but all input tensors were scalars; will instead unsqueeze and return a vector.\n",
      "  warnings.warn(\n",
      "/usr/local/lib/python3.11/dist-packages/torch/nn/parallel/_functions.py:70: UserWarning: Was asked to gather along dimension 0, but all input tensors were scalars; will instead unsqueeze and return a vector.\n",
      "  warnings.warn(\n"
     ]
    },
    {
     "data": {
      "text/plain": [
       "TrainOutput(global_step=16875, training_loss=0.025743223741319446, metrics={'train_runtime': 7980.8635, 'train_samples_per_second': 67.662, 'train_steps_per_second': 2.114, 'total_flos': 1.830511706112e+16, 'train_loss': 0.025743223741319446, 'epoch': 3.0})"
      ]
     },
     "execution_count": 27,
     "metadata": {},
     "output_type": "execute_result"
    }
   ],
   "source": [
    "trainer.train()"
   ]
  },
  {
   "cell_type": "markdown",
   "metadata": {},
   "source": [
    "7. Final BLEU Score"
   ]
  },
  {
   "cell_type": "code",
   "execution_count": 31,
   "metadata": {
    "execution": {
     "iopub.execute_input": "2025-06-20T14:39:56.733727Z",
     "iopub.status.busy": "2025-06-20T14:39:56.733448Z",
     "iopub.status.idle": "2025-06-20T14:49:30.012923Z",
     "shell.execute_reply": "2025-06-20T14:49:30.012324Z",
     "shell.execute_reply.started": "2025-06-20T14:39:56.733702Z"
    },
    "trusted": true
   },
   "outputs": [
    {
     "name": "stdout",
     "output_type": "stream",
     "text": [
      "\n",
      " Final BLEU Score: 56.80\n"
     ]
    }
   ],
   "source": [
    "metrics = trainer.evaluate()\n",
    "print(f\"\\n Final BLEU Score: {metrics['eval_bleu']:.2f}\")"
   ]
  }
 ],
 "metadata": {
  "kernelspec": {
   "display_name": "Python 3",
   "language": "python",
   "name": "python3"
  },
  "language_info": {
   "codemirror_mode": {
    "name": "ipython",
    "version": 3
   },
   "file_extension": ".py",
   "mimetype": "text/x-python",
   "name": "python",
   "nbconvert_exporter": "python",
   "pygments_lexer": "ipython3",
   "version": "3.11.11"
  }
 },
 "nbformat": 4,
 "nbformat_minor": 4
}
