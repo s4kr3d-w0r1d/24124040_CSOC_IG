{
 "cells": [
  {
   "cell_type": "markdown",
   "metadata": {
    "id": "MCkm9xCsTDks"
   },
   "source": [
    "## Part 2: PyTorch Implementation"
   ]
  },
  {
   "cell_type": "markdown",
   "metadata": {
    "id": "0mohVrmQTQt3"
   },
   "source": [
    "1. Importing basic libraries and setting device to GPU"
   ]
  },
  {
   "cell_type": "code",
   "execution_count": 3,
   "metadata": {
    "executionInfo": {
     "elapsed": 9,
     "status": "ok",
     "timestamp": 1748248382295,
     "user": {
      "displayName": "Saksham Madan",
      "userId": "02115736009244166700"
     },
     "user_tz": -330
    },
    "id": "sOb2XMj0Tyh_"
   },
   "outputs": [],
   "source": [
    "import pandas as pd\n",
    "import numpy as np\n",
    "import time\n",
    "import torch\n",
    "import torch.nn as nn\n",
    "import torch.optim as optim\n",
    "from torch.utils.data import DataLoader, TensorDataset, Dataset\n",
    "from sklearn.model_selection import train_test_split\n",
    "from sklearn.preprocessing import StandardScaler\n",
    "from sklearn.metrics import accuracy_score, f1_score, average_precision_score, auc, confusion_matrix, classification_report\n",
    "\n",
    "device = torch.device(\"cuda\" if torch.cuda.is_available() else \"cpu\")"
   ]
  },
  {
   "cell_type": "markdown",
   "metadata": {
    "id": "96zA_YwmT4KU"
   },
   "source": [
    "2. Loading Dataset"
   ]
  },
  {
   "cell_type": "code",
   "execution_count": null,
   "metadata": {
    "executionInfo": {
     "elapsed": 362,
     "status": "ok",
     "timestamp": 1748248382659,
     "user": {
      "displayName": "Saksham Madan",
      "userId": "02115736009244166700"
     },
     "user_tz": -330
    },
    "id": "nYx_LZCGT273"
   },
   "outputs": [],
   "source": [
    "df = pd.read_csv('data.csv')\n",
    "X = df.drop(columns=['no_show_bin']).astype(np.float32).values\n",
    "y = df['no_show_bin'].astype(np.float32).values.reshape(-1, 1)"
   ]
  },
  {
   "cell_type": "markdown",
   "metadata": {
    "id": "HZpaatAbVBv_"
   },
   "source": [
    "3. Scaling numerical features"
   ]
  },
  {
   "cell_type": "code",
   "execution_count": 5,
   "metadata": {
    "executionInfo": {
     "elapsed": 17,
     "status": "ok",
     "timestamp": 1748248382678,
     "user": {
      "displayName": "Saksham Madan",
      "userId": "02115736009244166700"
     },
     "user_tz": -330
    },
    "id": "OOkHzso2Ucuv"
   },
   "outputs": [],
   "source": [
    "continuous_cols = ['age', 'wait_days', 'sched_hour','past_appointments', 'patient_no_show_rate']\n",
    "target_col = 'no_show_bin'\n",
    "binary_cols = [col for col in df.columns if col not in continuous_cols + [target_col]]\n",
    "X_continuous = df[continuous_cols]\n",
    "X_binary = df[binary_cols].astype(np.float32)\n",
    "y = df[target_col].astype(np.float32).values.reshape(-1, 1)\n",
    "scaler = StandardScaler()\n",
    "X_continuous_scaled = scaler.fit_transform(X_continuous)\n",
    "X = np.hstack([X_continuous_scaled, X_binary.values])"
   ]
  },
  {
   "cell_type": "markdown",
   "metadata": {
    "id": "sR0GIh9hVPDB"
   },
   "source": [
    "4. Train Test Split"
   ]
  },
  {
   "cell_type": "code",
   "execution_count": 6,
   "metadata": {
    "executionInfo": {
     "elapsed": 48,
     "status": "ok",
     "timestamp": 1748248382728,
     "user": {
      "displayName": "Saksham Madan",
      "userId": "02115736009244166700"
     },
     "user_tz": -330
    },
    "id": "zL73P2X5VLZr"
   },
   "outputs": [],
   "source": [
    "X_train, X_test, y_train, y_test = train_test_split(X, y, test_size=0.2, random_state=42)"
   ]
  },
  {
   "cell_type": "markdown",
   "metadata": {
    "id": "zx3mTdRDVqmZ"
   },
   "source": [
    "5. Custom Dataset Class"
   ]
  },
  {
   "cell_type": "code",
   "execution_count": 7,
   "metadata": {
    "executionInfo": {
     "elapsed": 96,
     "status": "ok",
     "timestamp": 1748248382833,
     "user": {
      "displayName": "Saksham Madan",
      "userId": "02115736009244166700"
     },
     "user_tz": -330
    },
    "id": "MvVAgLqpW2BO"
   },
   "outputs": [],
   "source": [
    "class NoShow(Dataset):\n",
    "  def __init__(self, X, y):\n",
    "    self.X = torch.tensor(X, dtype=torch.float32)\n",
    "    self.y = torch.tensor(y)\n",
    "  def __len__(self):\n",
    "    return len(self.X)\n",
    "  def __getitem__(self, idx):\n",
    "    return self.X[idx], self.y[idx]"
   ]
  },
  {
   "cell_type": "markdown",
   "metadata": {
    "id": "vspJn1HnW39r"
   },
   "source": [
    "6. Creating Dataloaders"
   ]
  },
  {
   "cell_type": "code",
   "execution_count": 8,
   "metadata": {
    "executionInfo": {
     "elapsed": 12,
     "status": "ok",
     "timestamp": 1748248382848,
     "user": {
      "displayName": "Saksham Madan",
      "userId": "02115736009244166700"
     },
     "user_tz": -330
    },
    "id": "q2QTSJ9IW3BT"
   },
   "outputs": [],
   "source": [
    "train = NoShow(X_train, y_train)\n",
    "test = NoShow(X_test, y_test)\n",
    "train_loader = DataLoader(train, batch_size=64, shuffle=True)\n",
    "test_loader = DataLoader(test, batch_size=64, shuffle=False)"
   ]
  },
  {
   "cell_type": "markdown",
   "metadata": {
    "id": "VpMCr1lYXE0Y"
   },
   "source": [
    "7. Neural Network"
   ]
  },
  {
   "cell_type": "code",
   "execution_count": 9,
   "metadata": {
    "executionInfo": {
     "elapsed": 2,
     "status": "ok",
     "timestamp": 1748248382861,
     "user": {
      "displayName": "Saksham Madan",
      "userId": "02115736009244166700"
     },
     "user_tz": -330
    },
    "id": "_0b446f_XDaI"
   },
   "outputs": [],
   "source": [
    "class NeuralNetworkPytorch(nn.Module):\n",
    "  def __init__(self,input_size):\n",
    "    super().__init__()\n",
    "    self.network = nn.Sequential(\n",
    "        nn.Linear(input_size, 32),\n",
    "        nn.ReLU(),\n",
    "        nn.Linear(32, 16),\n",
    "        nn.ReLU(),\n",
    "        nn.Linear(16, 1),\n",
    "        nn.Sigmoid()\n",
    "    )\n",
    "\n",
    "  def forward(self,x):\n",
    "    return self.network(x)"
   ]
  },
  {
   "cell_type": "markdown",
   "metadata": {
    "id": "lhbVSUjWY6Py"
   },
   "source": [
    "8. Training Function"
   ]
  },
  {
   "cell_type": "code",
   "execution_count": 10,
   "metadata": {
    "executionInfo": {
     "elapsed": 10,
     "status": "ok",
     "timestamp": 1748248382873,
     "user": {
      "displayName": "Saksham Madan",
      "userId": "02115736009244166700"
     },
     "user_tz": -330
    },
    "id": "9El1yo7wY_HX"
   },
   "outputs": [],
   "source": [
    "def train_model(model, train_loader, criterion, optimizer, epochs=100,verbose=True):\n",
    "  for epoch in range(epochs):\n",
    "    model.train()\n",
    "    losses = []\n",
    "    for X,y in train_loader:\n",
    "      X, y = X.to(device), y.to(device)\n",
    "      optimizer.zero_grad()\n",
    "      output = model(X)\n",
    "      loss = criterion(output, y)\n",
    "      loss.backward()\n",
    "      optimizer.step()\n",
    "      losses.append(loss.item())\n",
    "    if(epoch%10==0 and verbose):\n",
    "      print(f'Epoch: {epoch}, Loss: {np.mean(losses)}')"
   ]
  },
  {
   "cell_type": "markdown",
   "metadata": {
    "id": "SV0RGWiPdlrI"
   },
   "source": [
    "9. Training the model on dataset"
   ]
  },
  {
   "cell_type": "code",
   "execution_count": 13,
   "metadata": {
    "executionInfo": {
     "elapsed": 26889,
     "status": "ok",
     "timestamp": 1748248528855,
     "user": {
      "displayName": "Saksham Madan",
      "userId": "02115736009244166700"
     },
     "user_tz": -330
    },
    "id": "_DHwj6Fda4Be"
   },
   "outputs": [],
   "source": [
    "input_size = X_train.shape[1]\n",
    "model = NeuralNetworkPytorch(input_size).to(device)\n",
    "criterion = nn.BCELoss()\n",
    "optimizer = optim.Adam(model.parameters(), lr=0.01)\n",
    "\n",
    "start = time.time()\n",
    "train_model(model, train_loader, criterion, optimizer, epochs=10, verbose=False)\n",
    "end = time.time()"
   ]
  },
  {
   "cell_type": "markdown",
   "metadata": {
    "id": "wpEru1JovKg7"
   },
   "source": [
    "10. Evaluation Metrics"
   ]
  },
  {
   "cell_type": "code",
   "execution_count": 14,
   "metadata": {
    "colab": {
     "base_uri": "https://localhost:8080/"
    },
    "executionInfo": {
     "elapsed": 52,
     "status": "ok",
     "timestamp": 1748248542182,
     "user": {
      "displayName": "Saksham Madan",
      "userId": "02115736009244166700"
     },
     "user_tz": -330
    },
    "id": "6QuxH29tljbg",
    "outputId": "3440ba58-831a-44cd-e28f-2cba2fbc2e7c"
   },
   "outputs": [
    {
     "name": "stdout",
     "output_type": "stream",
     "text": [
      "Training time: 26.567100048065186\n",
      "Test Accuracy: 0.9158975750995295\n",
      "F1-Score: 0.7810623012601579\n",
      "PR-AUC:  0.6610364078782504\n",
      "Confusion Matrix:\n",
      " [[16929   755]\n",
      " [ 1104  3316]]\n",
      "\n",
      "Classification Report:\n",
      "               precision    recall  f1-score   support\n",
      "\n",
      "         0.0       0.94      0.96      0.95     17684\n",
      "         1.0       0.81      0.75      0.78      4420\n",
      "\n",
      "    accuracy                           0.92     22104\n",
      "   macro avg       0.88      0.85      0.86     22104\n",
      "weighted avg       0.91      0.92      0.91     22104\n",
      "\n"
     ]
    }
   ],
   "source": [
    "y_p = model.forward(test.X.to(device))\n",
    "y_p = y_p.detach().cpu().numpy()\n",
    "y_pred = (y_p > 0.5).astype(int)\n",
    "\n",
    "print(\"Training time:\",end-start)\n",
    "print(\"Test Accuracy:\", accuracy_score(y_test, y_pred))\n",
    "print(\"F1-Score:\",f1_score(y_test, y_pred))\n",
    "print(\"PR-AUC: \",average_precision_score(y_test,y_pred))\n",
    "print(\"Confusion Matrix:\\n\", confusion_matrix(y_test, y_pred))\n",
    "print(\"\\nClassification Report:\\n\", classification_report(y_test, y_pred))"
   ]
  }
 ],
 "metadata": {
  "accelerator": "GPU",
  "colab": {
   "authorship_tag": "ABX9TyOHG+C+ub2emf28DZ4vrCUz",
   "gpuType": "T4",
   "provenance": []
  },
  "kernelspec": {
   "display_name": "Python 3",
   "name": "python3"
  },
  "language_info": {
   "name": "python"
  }
 },
 "nbformat": 4,
 "nbformat_minor": 0
}
