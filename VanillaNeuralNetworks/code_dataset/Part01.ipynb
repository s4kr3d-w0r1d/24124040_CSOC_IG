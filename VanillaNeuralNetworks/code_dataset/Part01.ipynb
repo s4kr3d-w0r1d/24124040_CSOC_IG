{
 "cells": [
  {
   "cell_type": "markdown",
   "metadata": {
    "id": "PrNWe_S9bBjQ"
   },
   "source": [
    "## Part 1: Neural Network from Scratch"
   ]
  },
  {
   "cell_type": "markdown",
   "metadata": {
    "id": "WH2mfSQAbFEe"
   },
   "source": [
    "1. Importing basic libraries"
   ]
  },
  {
   "cell_type": "code",
   "execution_count": 1,
   "metadata": {
    "executionInfo": {
     "elapsed": 8885,
     "status": "ok",
     "timestamp": 1748176264136,
     "user": {
      "displayName": "Saksham Madan",
      "userId": "02115736009244166700"
     },
     "user_tz": -330
    },
    "id": "TvD_3AN-bDjr"
   },
   "outputs": [],
   "source": [
    "import pandas as pd\n",
    "import numpy as np\n",
    "import time\n",
    "from sklearn.model_selection import train_test_split\n",
    "from sklearn.preprocessing import StandardScaler\n",
    "from sklearn.metrics import accuracy_score, average_precision_score, confusion_matrix, classification_report, f1_score"
   ]
  },
  {
   "cell_type": "markdown",
   "metadata": {
    "id": "5VqokhoXbNLs"
   },
   "source": [
    "2. Neural Network"
   ]
  },
  {
   "cell_type": "code",
   "execution_count": null,
   "metadata": {
    "executionInfo": {
     "elapsed": 34,
     "status": "ok",
     "timestamp": 1748176638724,
     "user": {
      "displayName": "Saksham Madan",
      "userId": "02115736009244166700"
     },
     "user_tz": -330
    },
    "id": "QTyCaXqrbI-y"
   },
   "outputs": [],
   "source": [
    "class NeuralNetwork:\n",
    "    def __init__(self, layer_dim, seed=42):\n",
    "        np.random.seed(seed)\n",
    "        self.layer_dim = layer_dim\n",
    "        self.parameters = {}\n",
    "        self.L = len(layer_dim)-1\n",
    "        for i in range(1,len(layer_dim)):\n",
    "            self.parameters[f\"W{i}\"] = np.random.randn(layer_dim[i],layer_dim[i-1])*np.sqrt(2./layer_dim[i-1])\n",
    "            self.parameters[f\"b{i}\"] = np.zeros((layer_dim[i],1))\n",
    "\n",
    "    def relu(self,z):\n",
    "        return np.maximum(0,z)\n",
    "\n",
    "    def sigmoid(self,z):\n",
    "        return 1/(1+np.exp(-z))\n",
    "\n",
    "    def forward(self,X):\n",
    "        A = X.T\n",
    "        cache = {\"A0\":A}\n",
    "        for i in range(1,self.L+1):\n",
    "            W = self.parameters[f\"W{i}\"]\n",
    "            b = self.parameters[f\"b{i}\"]\n",
    "            Z = W @ A + b\n",
    "            A = self.relu(Z) if i < self.L else self.sigmoid(Z)\n",
    "            cache[f\"Z{i}\"]=Z\n",
    "            cache[f\"A{i}\"]=A\n",
    "        return A.T, cache\n",
    "\n",
    "\n",
    "    def compute_loss(self, Y_hat, Y):\n",
    "        m = Y.shape[0]\n",
    "        epsilon = 1e-8\n",
    "        loss = -np.mean(Y * np.log(Y_hat + epsilon) + (1 - Y) * np.log(1 - Y_hat + epsilon))\n",
    "        return loss\n",
    "\n",
    "    def relu_backward(self, dA, Z):\n",
    "        dZ = np.array(dA, copy=True)\n",
    "        dZ[Z<=0]=0\n",
    "        return dZ\n",
    "\n",
    "    def sigmoid_backward(self, dA, Z):\n",
    "        s = self.sigmoid(Z)\n",
    "        return dA*s*(1-s)\n",
    "\n",
    "    def backward(self, X, Y, cache):\n",
    "        grads = {}\n",
    "        m = X.shape[0]\n",
    "        L = self.L\n",
    "        A_prev = cache[f\"A{L-1}\"]\n",
    "        ZL = cache[f\"Z{L}\"]\n",
    "        AL = self.sigmoid(ZL)\n",
    "        dZL = AL - Y.T\n",
    "        grads[f\"dW{L}\"] = (1/m) * np.dot(dZL, A_prev.T)\n",
    "        grads[f\"db{L}\"] = (1/m) * np.sum(dZL, axis=1, keepdims=True)\n",
    "        dA_prev = np.dot(self.parameters[f\"W{L}\"].T, dZL)\n",
    "        for i in reversed(range(1, L)):\n",
    "            Z = cache[f\"Z{i}\"]\n",
    "            A_prev = cache[f\"A{i-1}\"]\n",
    "            dZ = self.relu_backward(dA_prev, Z)\n",
    "            grads[f\"dW{i}\"] = (1/m) * np.dot(dZ, A_prev.T)\n",
    "            grads[f\"db{i}\"] = (1/m) * np.sum(dZ, axis=1, keepdims=True)\n",
    "            dA_prev = np.dot(self.parameters[f\"W{i}\"].T, dZ)\n",
    "        return grads\n",
    "\n",
    "    def update_params(self, grads, learning_rate):\n",
    "        for l in range(1, self.L+1):\n",
    "            self.parameters[f\"W{l}\"]-=learning_rate*grads[f\"dW{l}\"]\n",
    "            self.parameters[f\"b{l}\"]-=learning_rate*grads[f\"db{l}\"]\n",
    "\n",
    "    def train(self, X, Y, epochs=100, learning_rate=0.01, verbose=True):\n",
    "        for i in range(epochs):\n",
    "            Y_hat, cache = self.forward(X)\n",
    "            loss = self.compute_loss(Y_hat, Y)\n",
    "            grads = self.backward(X, Y, cache)\n",
    "            self.update_params(grads, learning_rate)\n",
    "            if verbose and i % 10 == 0:\n",
    "                print(f\"Epoch {i}, Loss: {loss:.4f}\")\n",
    "                \n",
    "    def predict(self, X, threshold=0.5):\n",
    "        Y_hat, _ = self.forward(X)\n",
    "        return (Y_hat > threshold).astype(int)\n"
   ]
  },
  {
   "cell_type": "markdown",
   "metadata": {
    "id": "v1RM6mkJbUcn"
   },
   "source": [
    "2. Importing Data as a Pandas Dataframe"
   ]
  },
  {
   "cell_type": "code",
   "execution_count": null,
   "metadata": {
    "executionInfo": {
     "elapsed": 710,
     "status": "ok",
     "timestamp": 1748176408232,
     "user": {
      "displayName": "Saksham Madan",
      "userId": "02115736009244166700"
     },
     "user_tz": -330
    },
    "id": "UEhHJB89bQQJ"
   },
   "outputs": [],
   "source": [
    "df = pd.read_csv('data.csv')\n",
    "X = df.drop(columns=['no_show_bin']).astype(np.float32).values\n",
    "y = df['no_show_bin'].astype(np.float32).values.reshape(-1, 1)"
   ]
  },
  {
   "cell_type": "markdown",
   "metadata": {
    "id": "cR16TC9ZbyBs"
   },
   "source": [
    "3. Scaling numerical features"
   ]
  },
  {
   "cell_type": "code",
   "execution_count": 6,
   "metadata": {
    "executionInfo": {
     "elapsed": 42,
     "status": "ok",
     "timestamp": 1748176430445,
     "user": {
      "displayName": "Saksham Madan",
      "userId": "02115736009244166700"
     },
     "user_tz": -330
    },
    "id": "BnZ_XrKgbmnw"
   },
   "outputs": [],
   "source": [
    "continuous_cols = ['age', 'wait_days', 'sched_hour','past_appointments', 'patient_no_show_rate']\n",
    "target_col = 'no_show_bin'\n",
    "binary_cols = [col for col in df.columns if col not in continuous_cols + [target_col]]\n",
    "X_continuous = df[continuous_cols]\n",
    "X_binary = df[binary_cols].astype(np.float32)\n",
    "y = df[target_col].astype(np.float32).values.reshape(-1, 1)\n",
    "scaler = StandardScaler()\n",
    "X_continuous_scaled = scaler.fit_transform(X_continuous)\n",
    "X = np.hstack([X_continuous_scaled, X_binary.values])"
   ]
  },
  {
   "cell_type": "markdown",
   "metadata": {
    "id": "3THgn0YDb4Ql"
   },
   "source": [
    "4. Train Test Split"
   ]
  },
  {
   "cell_type": "code",
   "execution_count": 7,
   "metadata": {
    "executionInfo": {
     "elapsed": 1014,
     "status": "ok",
     "timestamp": 1748176449097,
     "user": {
      "displayName": "Saksham Madan",
      "userId": "02115736009244166700"
     },
     "user_tz": -330
    },
    "id": "RjJdpauTb2PH"
   },
   "outputs": [],
   "source": [
    "X_train, X_test, y_train, y_test = train_test_split(X, y, test_size=0.2, stratify=y, random_state=42)"
   ]
  },
  {
   "cell_type": "markdown",
   "metadata": {
    "id": "tPGZimmXb8AV"
   },
   "source": [
    "5. Training"
   ]
  },
  {
   "cell_type": "code",
   "execution_count": 10,
   "metadata": {
    "executionInfo": {
     "elapsed": 34646,
     "status": "ok",
     "timestamp": 1748176679259,
     "user": {
      "displayName": "Saksham Madan",
      "userId": "02115736009244166700"
     },
     "user_tz": -330
    },
    "id": "biOe2HIfb6ji"
   },
   "outputs": [],
   "source": [
    "n = X_train.shape[1]\n",
    "layer_dim = [n,32,16,1]\n",
    "\n",
    "nn = NeuralNetwork(layer_dim,seed=42)\n",
    "start = time.time()\n",
    "nn.train(X_train,y_train,epochs=200,learning_rate=0.01,verbose=False)\n",
    "end = time.time()"
   ]
  },
  {
   "cell_type": "markdown",
   "metadata": {
    "id": "caJJ2SOXc08H"
   },
   "source": [
    "6. Evaluation on test data"
   ]
  },
  {
   "cell_type": "code",
   "execution_count": null,
   "metadata": {
    "colab": {
     "base_uri": "https://localhost:8080/"
    },
    "executionInfo": {
     "elapsed": 100,
     "status": "ok",
     "timestamp": 1748177715632,
     "user": {
      "displayName": "Saksham Madan",
      "userId": "02115736009244166700"
     },
     "user_tz": -330
    },
    "id": "_dDAiMv7cAOY",
    "outputId": "cd7802ca-15f4-47c6-9981-c4da33bc8383"
   },
   "outputs": [
    {
     "name": "stdout",
     "output_type": "stream",
     "text": [
      "Training time: 34.58730936050415\n",
      "Test Accuracy: 0.8818313427433948\n",
      "F1-Score: 0.6176814988290398\n",
      "PR-AUC:  0.527539415842822\n",
      "Confusion Matrix:\n",
      " [[17382   259]\n",
      " [ 2353  2110]]\n",
      "\n",
      "Classification Report:\n",
      "               precision    recall  f1-score   support\n",
      "\n",
      "         0.0       0.88      0.99      0.93     17641\n",
      "         1.0       0.89      0.47      0.62      4463\n",
      "\n",
      "    accuracy                           0.88     22104\n",
      "   macro avg       0.89      0.73      0.77     22104\n",
      "weighted avg       0.88      0.88      0.87     22104\n",
      "\n"
     ]
    }
   ],
   "source": [
    "y_pred = nn.predict(X_test,threshold=0.5)\n",
    "\n",
    "print(\"Training time:\",end-start)\n",
    "print(\"Test Accuracy:\", accuracy_score(y_test, y_pred))\n",
    "print(\"F1-Score:\",f1_score(y_test, y_pred))\n",
    "print(\"PR-AUC: \",average_precision_score(y_test,y_pred))\n",
    "print(\"Confusion Matrix:\\n\", confusion_matrix(y_test, y_pred))\n",
    "print(\"\\nClassification Report:\\n\", classification_report(y_test, y_pred))"
   ]
  }
 ],
 "metadata": {
  "colab": {
   "authorship_tag": "ABX9TyOV2fU/NgLVMGNEWGYdC+qU",
   "provenance": []
  },
  "kernelspec": {
   "display_name": "Python 3",
   "name": "python3"
  },
  "language_info": {
   "name": "python",
   "version": "3.12.6"
  }
 },
 "nbformat": 4,
 "nbformat_minor": 0
}
