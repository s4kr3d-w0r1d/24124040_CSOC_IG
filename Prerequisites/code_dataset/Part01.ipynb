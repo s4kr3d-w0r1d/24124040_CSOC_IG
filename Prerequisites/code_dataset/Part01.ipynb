{
 "cells": [
  {
   "cell_type": "markdown",
   "id": "72db4a6b",
   "metadata": {},
   "source": [
    " ## Part 1: Pure Python Implementation"
   ]
  },
  {
   "cell_type": "markdown",
   "id": "e79b81eb",
   "metadata": {},
   "source": [
    "1. Defining functions for vector and matrix operations"
   ]
  },
  {
   "cell_type": "code",
   "execution_count": 10,
   "id": "7e94cbf1",
   "metadata": {},
   "outputs": [],
   "source": [
    "def dot_product(a,b):\n",
    "  return sum(x*y for x,y in zip(a,b))\n",
    "\n",
    "\n",
    "def vector_add(a,b):\n",
    "  return [x+y for x,y in zip(a,b)]\n",
    "\n",
    "\n",
    "def vector_subtract(a,b):\n",
    "  return [x-y for x,y in zip(a,b)]\n",
    "\n",
    "\n",
    "def scaler_vector_multiply(a,b):\n",
    "  return [a*v for v in b]\n",
    "\n",
    "\n",
    "def matrix_vector_multiply(a,b):\n",
    "  return [dot_product(x,b) for x in a]\n",
    "\n",
    "\n",
    "def transpose(a):\n",
    "  return list(map(list, zip(*a)))"
   ]
  },
  {
   "cell_type": "markdown",
   "id": "ce8e263a",
   "metadata": {},
   "source": [
    "2. Mean Squared Error Calculation"
   ]
  },
  {
   "cell_type": "code",
   "execution_count": 11,
   "id": "c8f1ba65",
   "metadata": {},
   "outputs": [],
   "source": [
    "def mse(prediction,label):\n",
    "  s = len(label)\n",
    "  return sum((p-l)**2 for p,l in zip(prediction,label))/(2*s)"
   ]
  },
  {
   "cell_type": "markdown",
   "id": "e06d146a",
   "metadata": {},
   "source": [
    "3. Gradient Descent Algorithm\n",
    "\n",
    "- Hyperparamters : Learning Rate, Epochs"
   ]
  },
  {
   "cell_type": "code",
   "execution_count": 12,
   "id": "6276fc3f",
   "metadata": {},
   "outputs": [],
   "source": [
    "def gradient_descent(X,y,alpha=0.1,epochs=1000):\n",
    "  m = len(X)\n",
    "  n = len(X[0])\n",
    "\n",
    "  weights = [0.0]*n\n",
    "  bias = 0.0\n",
    "  cost_history = []\n",
    "\n",
    "  for epoch in range(epochs):\n",
    "    yp = [dot_product(x_row, weights) + bias for x_row in X]\n",
    "    error = vector_subtract(yp,y)\n",
    "    dw = scaler_vector_multiply(1/m, matrix_vector_multiply(transpose(X), error))\n",
    "    db = 1/m * sum(error)\n",
    "\n",
    "    weights = vector_subtract(weights, scaler_vector_multiply(alpha, dw))\n",
    "    bias = bias - alpha*db\n",
    "\n",
    "    cost = mse(yp,y)\n",
    "    cost_history.append(cost)\n",
    "\n",
    "    if epoch > 0 and abs(cost_history[-2] - cost_history[-1]) < 1e-6:\n",
    "      break\n",
    "\n",
    "  return weights, bias, cost_history"
   ]
  },
  {
   "cell_type": "markdown",
   "id": "09fc4e7b",
   "metadata": {},
   "source": [
    "4. Standardization"
   ]
  },
  {
   "cell_type": "code",
   "execution_count": 13,
   "id": "eb4f259a",
   "metadata": {},
   "outputs": [],
   "source": [
    "def standardize(X):\n",
    "    m = len(X)\n",
    "    n = len(X[0])\n",
    "\n",
    "    means = [sum(X[i][j] for i in range(m)) / m for j in range(n)]\n",
    "\n",
    "    stds = []\n",
    "    for j in range(n):\n",
    "        variance = sum((X[i][j] - means[j]) ** 2 for i in range(m)) / m\n",
    "        std_dev = variance ** 0.5\n",
    "        stds.append(std_dev if std_dev > 0 else 1.0)\n",
    "\n",
    "    X_std = []\n",
    "    for i in range(m):\n",
    "        std_row = [(X[i][j] - means[j]) / stds[j] for j in range(n)]\n",
    "        X_std.append(std_row)\n",
    "\n",
    "    return X_std, means, stds\n",
    "\n",
    "def standardize_y(y):\n",
    "    mean = sum(y) / len(y)\n",
    "    variance = sum((yi - mean) ** 2 for yi in y) / len(y)\n",
    "    std_dev = variance ** 0.5 if variance > 0 else 1.0\n",
    "    y_std = [(yi - mean) / std_dev for yi in y]\n",
    "    return y_std, mean, std_dev"
   ]
  },
  {
   "cell_type": "markdown",
   "id": "39412cbb",
   "metadata": {},
   "source": [
    "5. Prediction"
   ]
  },
  {
   "cell_type": "code",
   "execution_count": 14,
   "id": "84694673",
   "metadata": {},
   "outputs": [],
   "source": [
    "def predict(X, weights, bias, y_mean, y_std):\n",
    "    y_std_pred = [dot_product(x_row, weights) + bias for x_row in X]\n",
    "    predictions = [yp * y_std + y_mean for yp in y_std_pred]\n",
    "    return predictions"
   ]
  },
  {
   "cell_type": "markdown",
   "id": "ed4428fc",
   "metadata": {},
   "source": [
    "6. Load csv (Equivalent to read_csv function of pandas)"
   ]
  },
  {
   "cell_type": "code",
   "execution_count": 15,
   "id": "89d2de88",
   "metadata": {},
   "outputs": [],
   "source": [
    "def load_csv_data(filename):\n",
    "    with open(filename, 'r') as f:\n",
    "        lines = f.readlines()\n",
    "    data = [list(map(float, line.strip().split(','))) for line in lines[1:]]\n",
    "    X = [row[:-1] for row in data]\n",
    "    y = [row[-1] for row in data]\n",
    "    return X, y\n",
    "\n",
    "X, y = load_csv_data(\"data.csv\")"
   ]
  },
  {
   "cell_type": "markdown",
   "id": "d2091c9c",
   "metadata": {},
   "source": [
    "7. Evaluation Metrics\n",
    "\n",
    "- MAE\n",
    "- RMSE\n",
    "- R2 Score"
   ]
  },
  {
   "cell_type": "code",
   "execution_count": 16,
   "id": "b080354a",
   "metadata": {},
   "outputs": [],
   "source": [
    "def mae(y_pred, y_true):\n",
    "    n = len(y_true)\n",
    "    return sum(abs(p - t) for p, t in zip(y_pred, y_true)) / n\n",
    "\n",
    "def rmse(y_pred, y_true):\n",
    "    n = len(y_true)\n",
    "    return (sum((p - t)**2 for p, t in zip(y_pred, y_true)) / n) ** 0.5\n",
    "\n",
    "def r2_score(y_pred, y_true):\n",
    "    mean_y = sum(y_true) / len(y_true)\n",
    "    ss_total = sum((t - mean_y) ** 2 for t in y_true)\n",
    "    ss_residual = sum((t - p) ** 2 for t, p in zip(y_true, y_pred))\n",
    "    return 1 - (ss_residual / ss_total)\n"
   ]
  },
  {
   "cell_type": "markdown",
   "id": "2b9eb5e4",
   "metadata": {},
   "source": [
    "8. Cost Convergence Graph"
   ]
  },
  {
   "cell_type": "code",
   "execution_count": 17,
   "id": "5b4ddbe9",
   "metadata": {},
   "outputs": [],
   "source": [
    "import matplotlib.pyplot as plt\n",
    "\n",
    "def plot_loss(cost_history):\n",
    "    plt.plot(cost_history)\n",
    "    plt.xlabel(\"Epoch\")\n",
    "    plt.ylabel(\"MSE Loss\")\n",
    "    plt.title(\"Training Loss Curve for pure Python Implementation\")\n",
    "    plt.grid(True)\n",
    "    plt.show()\n"
   ]
  },
  {
   "cell_type": "markdown",
   "id": "20ce5faf",
   "metadata": {},
   "source": [
    "### Main function for evaluating above algorithms"
   ]
  },
  {
   "cell_type": "code",
   "execution_count": 22,
   "id": "f6bde0b9",
   "metadata": {},
   "outputs": [
    {
     "name": "stdout",
     "output_type": "stream",
     "text": [
      "Training Time: 115.34206581115723\n",
      "Final Cost: 0.12911088127459747\n",
      "Final Weights: [0.012434977337750473, 0.4491861058102219, 0.016466621366517005, 0.004545011744928245, 0.04987437210271419, 0.015577111810111814, 0.044851098597329137, -0.2148651647993513, 0.08562900071437457, -0.04595971447632907, 0.2779467395140932, -0.06039062943318711, -0.07130976613989948, -0.10140549355908471, -0.050593551864338934, 0.04310441533374092, -0.06832413746747003, 0.05407964911476583, -0.1989656863971023, 0.0212935723870752, -0.05356496404705542, 0.020904108913186645, 0.12470448490371464, 0.050596649510712084, 0.012261638994777006, -0.02273900973218432, 0.18959784658515144]\n",
      "Final Bias: 0.018989681038615452\n",
      "Training MAE: 42165.08718923965\n",
      "Training RMSE: 57685.42946170322\n",
      "Training R2 Score: 0.7417820104991374\n",
      "Testing MAE: 48358.81382501458\n",
      "Testing RMSE: 66129.69758484242\n",
      "Testing R2 Score: 0.6998859902517196\n"
     ]
    },
    {
     "data": {
      "image/png": "[encoded data removed]",
      "text/plain": [
       "<Figure size 640x480 with 1 Axes>"
      ]
     },
     "metadata": {},
     "output_type": "display_data"
    }
   ],
   "source": [
    "import time\n",
    "\n",
    "def main():\n",
    "    X, y = load_csv_data(\"data.csv\")\n",
    "    \n",
    "    X_std, means, stds = standardize(X)\n",
    "    \n",
    "    train_size = int(0.8 * len(X))\n",
    "    X_train = X_std[:train_size]\n",
    "    X_test = X_std[train_size:]\n",
    "    y_train_raw = y[:train_size]\n",
    "    y_test = y[train_size:]\n",
    "    \n",
    "    y_train, y_mean, y_std_dev = standardize_y(y_train_raw)\n",
    "\n",
    "    start_time = time.time()\n",
    "    weights, bias, cost_history = gradient_descent(X_train, y_train, alpha=0.01, epochs=1000)\n",
    "    end_time = time.time()\n",
    "    \n",
    "    print(\"Training Time:\", end_time - start_time)\n",
    "    print(\"Final Cost:\", cost_history[-1])\n",
    "    print(\"Final Weights:\", weights)\n",
    "    print(\"Final Bias:\", bias)\n",
    "    \n",
    "    predictions_train = predict(X_train, weights, bias, y_mean, y_std_dev)\n",
    "    predictions_test = predict(X_test, weights, bias, y_mean, y_std_dev)\n",
    "    \n",
    "    print(\"Training MAE:\", mae(predictions_train, y_train_raw))\n",
    "    print(\"Training RMSE:\", rmse(predictions_train, y_train_raw))    \n",
    "    print(\"Training R2 Score:\", r2_score(predictions_train, y_train_raw))\n",
    "    \n",
    "    print(\"Testing MAE:\", mae(predictions_test, y_test))\n",
    "    print(\"Testing RMSE:\", rmse(predictions_test, y_test))\n",
    "    print(\"Testing R2 Score:\", r2_score(predictions_test, y_test))\n",
    "    \n",
    "    plot_loss(cost_history)\n",
    "    \n",
    "if __name__ == \"__main__\":\n",
    "    main()\n",
    "    \n",
    "    "
   ]
  },
  {
   "cell_type": "code",
   "execution_count": null,
   "id": "8038d20b",
   "metadata": {},
   "outputs": [],
   "source": []
  }
 ],
 "metadata": {
  "kernelspec": {
   "display_name": "Python 3",
   "language": "python",
   "name": "python3"
  },
  "language_info": {
   "codemirror_mode": {
    "name": "ipython",
    "version": 3
   },
   "file_extension": ".py",
   "mimetype": "text/x-python",
   "name": "python",
   "nbconvert_exporter": "python",
   "pygments_lexer": "ipython3",
   "version": "3.12.6"
  }
 },
 "nbformat": 4,
 "nbformat_minor": 5
}
