{
 "cells": [
  {
   "cell_type": "markdown",
   "id": "6fb8cfdd",
   "metadata": {},
   "source": [
    "## Part 2: Optimized NumPy Implementation"
   ]
  },
  {
   "cell_type": "markdown",
   "id": "0d64b46e",
   "metadata": {},
   "source": [
    "1. Mean Squared Error Calculation"
   ]
  },
  {
   "cell_type": "code",
   "execution_count": 45,
   "id": "8677c12d",
   "metadata": {},
   "outputs": [],
   "source": [
    "import numpy as np\n",
    "\n",
    "def mse_np(y_pred, y_true):\n",
    "    m = len(y_true)\n",
    "    return np.sum((y_pred - y_true) ** 2) / (2 * m)"
   ]
  },
  {
   "cell_type": "markdown",
   "id": "3bc5803d",
   "metadata": {},
   "source": [
    "2. Gradient Descent Algorithm\n",
    "\n",
    "- Hyperparamters : Learning Rate, Epochs"
   ]
  },
  {
   "cell_type": "code",
   "execution_count": 46,
   "id": "4ceb93f7",
   "metadata": {},
   "outputs": [],
   "source": [
    "import numpy as np\n",
    "\n",
    "def gradient_descent_np(X, y, alpha=0.1, epochs=1000):\n",
    "    m, n = X.shape\n",
    "    weights = np.zeros(n)\n",
    "    bias = 0.0\n",
    "    cost_history = []\n",
    "\n",
    "    for epoch in range(epochs):\n",
    "        y_pred = X.dot(weights) + bias\n",
    "        error = y_pred - y\n",
    "\n",
    "        dw = (1/m) * (X.T.dot(error))\n",
    "        db = (1/m) * np.sum(error)\n",
    "\n",
    "        weights = weights - alpha*dw\n",
    "        bias = bias - alpha*db\n",
    "\n",
    "        cost = mse_np(y_pred, y)\n",
    "        cost_history.append(cost)\n",
    "        \n",
    "        if epoch > 0 and abs(cost_history[-2] - cost_history[-1]) < 1e-6:\n",
    "            break\n",
    "\n",
    "    return weights, bias, cost_history"
   ]
  },
  {
   "cell_type": "markdown",
   "id": "810e8a55",
   "metadata": {},
   "source": [
    "3. Standardization"
   ]
  },
  {
   "cell_type": "code",
   "execution_count": 47,
   "id": "01871ce9",
   "metadata": {},
   "outputs": [],
   "source": [
    "import numpy as np\n",
    "\n",
    "def standardize_X(X):\n",
    "    means = np.mean(X, axis=0)\n",
    "    stds = np.std(X, axis=0)\n",
    "    stds[stds == 0] = 1.0 \n",
    "    X_std = (X - means) / stds\n",
    "    return X_std, means, stds\n",
    "\n",
    "def standardize_y(y):\n",
    "    mean = np.mean(y)\n",
    "    std_dev = np.std(y)\n",
    "    std_dev = std_dev if std_dev > 0 else 1.0\n",
    "    y_std = (y - mean) / std_dev\n",
    "    return y_std, mean, std_dev"
   ]
  },
  {
   "cell_type": "markdown",
   "id": "8a0c4a06",
   "metadata": {},
   "source": [
    "4. Prediction"
   ]
  },
  {
   "cell_type": "code",
   "execution_count": 48,
   "id": "bce6d93d",
   "metadata": {},
   "outputs": [],
   "source": [
    "def predict(X, weights, bias, y_mean, y_std):\n",
    "    y_std_pred = X.dot(weights) + bias\n",
    "    predictions = y_std_pred * y_std + y_mean\n",
    "    return predictions"
   ]
  },
  {
   "cell_type": "markdown",
   "id": "c76d7048",
   "metadata": {},
   "source": [
    "5. Load csv (Equivalent to read_csv function of pandas)"
   ]
  },
  {
   "cell_type": "code",
   "execution_count": 49,
   "id": "b6c71982",
   "metadata": {},
   "outputs": [],
   "source": [
    "def load_csv_data(filename):\n",
    "    with open(filename, 'r') as f:\n",
    "        lines = f.readlines()\n",
    "    data = [list(map(float, line.strip().split(','))) for line in lines[1:]]\n",
    "    X = [row[:-1] for row in data]\n",
    "    y = [row[-1] for row in data]\n",
    "    return X, y\n",
    "\n",
    "X, y = load_csv_data(\"data.csv\")"
   ]
  },
  {
   "cell_type": "markdown",
   "id": "dd7b7656",
   "metadata": {},
   "source": [
    "6. Evaluation Metrics\n",
    "\n",
    "- MAE\n",
    "- RMSE\n",
    "- R2 Score"
   ]
  },
  {
   "cell_type": "code",
   "execution_count": 50,
   "id": "1206cf94",
   "metadata": {},
   "outputs": [],
   "source": [
    "import numpy as np\n",
    "\n",
    "def mae_np(y_pred, y_true):\n",
    "    return np.mean(np.abs(y_pred - y_true))\n",
    "\n",
    "def rmse_np(y_pred, y_true):\n",
    "    return np.sqrt(np.mean((y_pred - y_true) ** 2))\n",
    "\n",
    "def r2_score_np(y_pred, y_true):\n",
    "    ss_total = np.sum((y_true - np.mean(y_true)) ** 2)\n",
    "    ss_residual = np.sum((y_true - y_pred) ** 2)\n",
    "    return 1 - (ss_residual / ss_total)\n"
   ]
  },
  {
   "cell_type": "markdown",
   "id": "56263b36",
   "metadata": {},
   "source": [
    "7. Cost Convergence Graph"
   ]
  },
  {
   "cell_type": "code",
   "execution_count": 51,
   "id": "a938d93b",
   "metadata": {},
   "outputs": [],
   "source": [
    "import matplotlib.pyplot as plt\n",
    "\n",
    "def plot_loss(cost_history):\n",
    "    plt.plot(cost_history)\n",
    "    plt.xlabel(\"Epoch\")\n",
    "    plt.ylabel(\"MSE Loss\")\n",
    "    plt.title(\"Training Loss Curve for Numpy Implementation\")\n",
    "    plt.grid(True)\n",
    "    plt.show()\n"
   ]
  },
  {
   "cell_type": "markdown",
   "id": "5c329f09",
   "metadata": {},
   "source": [
    "### Main function for evaluating above algorithms"
   ]
  },
  {
   "cell_type": "code",
   "execution_count": 52,
   "id": "f6a7d6e9",
   "metadata": {},
   "outputs": [
    {
     "name": "stdout",
     "output_type": "stream",
     "text": [
      "Training Time: 0.011915445327758789\n",
      "Final Cost: 0.0004583405333133002\n",
      "Final Weights: [ 0.43982866 -0.47415362  0.8298469  -0.13379446  0.4371262 ]\n",
      "Final Bias: -0.17267193630450908\n",
      "Training MAE: 0.27760482773657\n",
      "Training RMSE: 0.33779497089136457\n",
      "Training R2 Score: 0.999085283256829\n",
      "Testing MAE: 0.4515294915639583\n",
      "Testing RMSE: 0.621181253031955\n",
      "Testing R2 Score: 0.9825229810897249\n"
     ]
    },
    {
     "data": {
      "image/png": "[encoded data removed]",
      "text/plain": [
       "<Figure size 640x480 with 1 Axes>"
      ]
     },
     "metadata": {},
     "output_type": "display_data"
    }
   ],
   "source": [
    "import time\n",
    "\n",
    "def main():\n",
    "    X, y = load_csv_data(\"data.csv\")\n",
    "\n",
    "    X_std, means, stds = standardize_X(X)\n",
    "    \n",
    "    train_size = int(0.8 * len(X))\n",
    "    \n",
    "    X_train = X_std[:train_size]\n",
    "    X_test = X_std[train_size:]\n",
    "    \n",
    "    y_train_raw = y[:train_size]\n",
    "    y_test_raw = y[train_size:]\n",
    "    \n",
    "    y_train, y_mean, y_std_dev = standardize_y(y_train_raw)\n",
    "\n",
    "    start_time = time.time()\n",
    "    weights, bias, cost_history = gradient_descent_np(X_train, y_train, alpha=0.01, epochs=1000)\n",
    "    end_time = time.time()\n",
    "    \n",
    "    print(\"Training Time:\", end_time - start_time)\n",
    "    print(\"Final Cost:\", cost_history[-1])\n",
    "    print(\"Final Weights:\", weights)\n",
    "    print(\"Final Bias:\", bias)\n",
    "\n",
    "    predictions_train = predict(X_train, weights, bias, y_mean, y_std_dev)\n",
    "    predictions_test = predict(X_test, weights, bias, y_mean, y_std_dev)\n",
    "\n",
    "    print(\"Training MAE:\", mae_np(predictions_train, y_train_raw))\n",
    "    print(\"Training RMSE:\", rmse_np(predictions_train, y_train_raw))\n",
    "    print(\"Training R2 Score:\", r2_score_np(predictions_train, y_train_raw))\n",
    "\n",
    "    print(\"Testing MAE:\", mae_np(predictions_test, y_test_raw))\n",
    "    print(\"Testing RMSE:\", rmse_np(predictions_test, y_test_raw))\n",
    "    print(\"Testing R2 Score:\", r2_score_np(predictions_test, y_test_raw))\n",
    "    \n",
    "    plot_loss(cost_history)\n",
    "    \n",
    "if __name__ == \"__main__\":\n",
    "    main()\n"
   ]
  }
 ],
 "metadata": {
  "kernelspec": {
   "display_name": "Python 3",
   "language": "python",
   "name": "python3"
  },
  "language_info": {
   "codemirror_mode": {
    "name": "ipython",
    "version": 3
   },
   "file_extension": ".py",
   "mimetype": "text/x-python",
   "name": "python",
   "nbconvert_exporter": "python",
   "pygments_lexer": "ipython3",
   "version": "3.12.6"
  }
 },
 "nbformat": 4,
 "nbformat_minor": 5
}
