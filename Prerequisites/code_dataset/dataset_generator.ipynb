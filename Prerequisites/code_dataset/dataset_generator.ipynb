{
 "cells": [
  {
   "cell_type": "markdown",
   "id": "06788dc8",
   "metadata": {},
   "source": [
    "## Dataset Generator \n",
    "\n",
    "### Generates random data for evaluating algorithms written in part 1, 2 & 3"
   ]
  },
  {
   "cell_type": "code",
   "execution_count": 2,
   "id": "ea29694d",
   "metadata": {},
   "outputs": [],
   "source": [
    "import random\n",
    "import pandas as pd\n",
    "\n",
    "m = 20  # number of samples\n",
    "n = 5   # number of features\n",
    "\n",
    "# True weights and bias for generating target values\n",
    "true_weights = [1.5, -2.0, 3.0, -0.5, 2.0]\n",
    "bias = 5.0\n",
    "\n",
    "# Generate feature matrix X (m x n)\n",
    "X = [[random.uniform(0, 10) for _ in range(n)] for _ in range(m)]\n",
    "\n",
    "# Generate noise\n",
    "noise = [random.gauss(0, 0.5) for _ in range(m)]\n",
    "\n",
    "# Compute target values y\n",
    "y = [sum(x_i * w for x_i, w in zip(row, true_weights)) + bias + e for row, e in zip(X, noise)]\n",
    "\n",
    "# Create a DataFrame for display\n",
    "df = pd.DataFrame(X, columns=[f\"Feature_{i+1}\" for i in range(n)])\n",
    "df[\"Target\"] = y\n",
    "\n",
    "df.head()\n",
    "\n",
    "df.to_csv(\"data.csv\", index=False)"
   ]
  },
  {
   "cell_type": "code",
   "execution_count": null,
   "id": "cbe132e2",
   "metadata": {},
   "outputs": [],
   "source": []
  }
 ],
 "metadata": {
  "kernelspec": {
   "display_name": "Python 3",
   "language": "python",
   "name": "python3"
  },
  "language_info": {
   "codemirror_mode": {
    "name": "ipython",
    "version": 3
   },
   "file_extension": ".py",
   "mimetype": "text/x-python",
   "name": "python",
   "nbconvert_exporter": "python",
   "pygments_lexer": "ipython3",
   "version": "3.12.6"
  }
 },
 "nbformat": 4,
 "nbformat_minor": 5
}
