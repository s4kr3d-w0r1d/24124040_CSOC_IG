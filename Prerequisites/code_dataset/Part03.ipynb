{
 "cells": [
  {
   "cell_type": "markdown",
   "id": "008095cf",
   "metadata": {},
   "source": [
    "## Part 3: Scikit-learn Implementation"
   ]
  },
  {
   "cell_type": "markdown",
   "id": "72b2e93c",
   "metadata": {},
   "source": [
    "1. Importing all necessary libraries"
   ]
  },
  {
   "cell_type": "code",
   "execution_count": 1,
   "id": "d3b4dd7d",
   "metadata": {},
   "outputs": [],
   "source": [
    "import numpy as np\n",
    "import pandas as pd\n",
    "from sklearn.model_selection import train_test_split\n",
    "from sklearn.preprocessing import StandardScaler\n",
    "from sklearn.linear_model import LinearRegression\n",
    "from sklearn.metrics import mean_squared_error, r2_score, mean_absolute_error\n",
    "import time"
   ]
  },
  {
   "cell_type": "markdown",
   "id": "093b22b7",
   "metadata": {},
   "source": [
    "### Defining main function to evaluate the model"
   ]
  },
  {
   "cell_type": "code",
   "execution_count": 2,
   "id": "42054a47",
   "metadata": {},
   "outputs": [
    {
     "name": "stdout",
     "output_type": "stream",
     "text": [
      "Training Time: 0.08235812187194824\n",
      "Training MAE: 42142.760574878324\n",
      "Training RMSE: 57552.10695301091\n",
      "Training R2 Score: 0.7522217982370467\n",
      "Testing MAE: 43059.874263750724\n",
      "Testing RMSE: 58719.93862555118\n",
      "Testing R2 Score: 0.736873659335183\n"
     ]
    }
   ],
   "source": [
    "def main():\n",
    "    \n",
    "    data = pd.read_csv('data.csv')\n",
    "\n",
    "    X = data.drop('median_house_value', axis=1)\n",
    "    y = data['median_house_value']\n",
    "\n",
    "    X_train, X_test, y_train, y_test = train_test_split(X, y, test_size=0.2, random_state=42)\n",
    "\n",
    "    scaler = StandardScaler()\n",
    "    X_train_scaled = scaler.fit_transform(X_train)\n",
    "    X_test_scaled = scaler.transform(X_test)\n",
    "\n",
    "    model = LinearRegression()\n",
    "    start_time = time.time()\n",
    "    model.fit(X_train_scaled, y_train)\n",
    "    end_time = time.time()\n",
    "    \n",
    "    print(\"Training Time:\", (end_time - start_time))\n",
    "\n",
    "    y_pred = model.predict(X_test_scaled)\n",
    "\n",
    "    rmse = np.sqrt(mean_squared_error(y_test, y_pred))\n",
    "    r2 = r2_score(y_test, y_pred)\n",
    "    mae = mean_absolute_error(y_test, y_pred)\n",
    "    \n",
    "    rmse_train = np.sqrt(mean_squared_error(y_train, model.predict(X_train_scaled)))\n",
    "    r2_train = r2_score(y_train, model.predict(X_train_scaled))\n",
    "    mae_train = mean_absolute_error(y_train, model.predict(X_train_scaled))\n",
    "    \n",
    "    print(\"Training MAE:\", mae_train)\n",
    "    print(\"Training RMSE:\", rmse_train)\n",
    "    print(\"Training R2 Score:\", r2_train)\n",
    "\n",
    "\n",
    "    print(\"Testing MAE:\", mae)\n",
    "    print(\"Testing RMSE:\", rmse)\n",
    "    print(\"Testing R2 Score:\", r2)\n",
    "    \n",
    "if __name__ == \"__main__\":\n",
    "    main()    "
   ]
  }
 ],
 "metadata": {
  "kernelspec": {
   "display_name": "Python 3",
   "language": "python",
   "name": "python3"
  },
  "language_info": {
   "codemirror_mode": {
    "name": "ipython",
    "version": 3
   },
   "file_extension": ".py",
   "mimetype": "text/x-python",
   "name": "python",
   "nbconvert_exporter": "python",
   "pygments_lexer": "ipython3",
   "version": "3.12.6"
  }
 },
 "nbformat": 4,
 "nbformat_minor": 5
}
